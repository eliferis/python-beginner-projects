{
 "cells": [
  {
   "cell_type": "code",
   "execution_count": null,
   "id": "7b124db8",
   "metadata": {},
   "outputs": [],
   "source": [
    "#This code is a quiz game. There are 10 questions. I want to ask the users a bunch of questions and then if they give us the right answer to these questions i will kind of add one to their score. At the end of the program I will print out what they got out of the number of questions."
   ]
  },
  {
   "cell_type": "code",
   "execution_count": null,
   "id": "bf254156",
   "metadata": {},
   "outputs": [],
   "source": [
    "print (\"Hello there! Welcome to Mercedes Benz Quiz Game!\")"
   ]
  },
  {
   "cell_type": "code",
   "execution_count": null,
   "id": "48c52e91",
   "metadata": {},
   "outputs": [],
   "source": [
    "playing = input (\"Do you want to play? \") \n",
    "print(playing)"
   ]
  },
  {
   "cell_type": "code",
   "execution_count": null,
   "id": "954f5ce8",
   "metadata": {},
   "outputs": [],
   "source": [
    "if playing.lower() != \"yes\":\n",
    "    quit()"
   ]
  },
  {
   "cell_type": "code",
   "execution_count": null,
   "id": "f45d5497",
   "metadata": {
    "scrolled": true
   },
   "outputs": [],
   "source": [
    "print (\"Okay! Let's play :)\")\n",
    "score = 0"
   ]
  },
  {
   "cell_type": "code",
   "execution_count": null,
   "id": "cc1020b4",
   "metadata": {},
   "outputs": [],
   "source": [
    "answer = input(\"1) What is popular nickname for the Mercedes F1 cars? \")\n",
    "if answer.lower() == 'silver arrows':\n",
    "    print('Correct!')\n",
    "    score += 1 \n",
    "else:\n",
    "    print('Incorrect!')\n"
   ]
  },
  {
   "cell_type": "code",
   "execution_count": null,
   "id": "aa2b200e",
   "metadata": {},
   "outputs": [],
   "source": [
    "answer = input(\"2) During which season & at what race did Mercedes take their first ever win? \")\n",
    "if answer.lower() == '2012 chinese grand prix':\n",
    "    \n",
    "    print('Correct!')\n",
    "    score += 1 \n",
    "else:\n",
    "    print('Incorrect!')\n"
   ]
  },
  {
   "cell_type": "code",
   "execution_count": null,
   "id": "8a8058a0",
   "metadata": {},
   "outputs": [],
   "source": [
    "answer = input(\"3) What does the three pointed Mercedes star represent? \")\n",
    "if answer.lower() == 'land sea air':\n",
    "    print('Correct!')\n",
    "    score += 1\n",
    "else:\n",
    "    print('Incorrect!')\n"
   ]
  },
  {
   "cell_type": "code",
   "execution_count": null,
   "id": "469e4f46",
   "metadata": {},
   "outputs": [],
   "source": [
    "answer = input(\"4) When did Mercedes and Benz unite? \")\n",
    "if answer == '1926':\n",
    "    print('Correct!')\n",
    "    score += 1\n",
    "else:\n",
    "    print('Incorrect!')"
   ]
  },
  {
   "cell_type": "code",
   "execution_count": null,
   "id": "210fd693-6c9f-40cd-b686-d97ecea86f6a",
   "metadata": {},
   "outputs": [],
   "source": [
    "answer = input (\"5) In which city is the Mercedes-Benz Museum located? \")\n",
    "if answer.lower() == 'stuttgart':\n",
    "    print ('Correct!')\n",
    "    score += 1\n",
    "else: \n",
    "    print('Incorrect!')"
   ]
  },
  {
   "cell_type": "code",
   "execution_count": null,
   "id": "4fd8907f-0df3-498d-b694-851699142c6c",
   "metadata": {},
   "outputs": [],
   "source": [
    "answer = input (\"6) What is the name of Mercedes-Benz’s electric vehicle sub-brand? \")\n",
    "if answer.lower() == \"eq\":\n",
    "    print('Correct!')\n",
    "    score += 1\n",
    "else:\n",
    "    print('Incorrect!')"
   ]
  },
  {
   "cell_type": "code",
   "execution_count": null,
   "id": "13383ed7-17f3-488e-8393-250b7c3e208a",
   "metadata": {},
   "outputs": [],
   "source": [
    "answer = input (\"7) What is the name of Mercedes-Benz's autonomous driving technology? \")\n",
    "if answer.lower() == 'drive pilot':\n",
    "    print ('Correct!')\n",
    "    score += 1\n",
    "else:\n",
    "    print ('Incorrect!')"
   ]
  },
  {
   "cell_type": "code",
   "execution_count": null,
   "id": "fb2bd3e1-d34c-4c59-b552-6417f2d0b31f",
   "metadata": {},
   "outputs": [],
   "source": [
    "answer = input (\"8) When was Carl Benz granted a patent for his invention of the Benz Patent-Motorwagen?\")\n",
    "if answer == '1886':\n",
    "    print ('Correct!')\n",
    "    score += 1\n",
    "else: \n",
    "    print('Incorrect!')"
   ]
  },
  {
   "cell_type": "code",
   "execution_count": null,
   "id": "cc6c10c9-9795-4cdd-ae73-ecd597f24e5b",
   "metadata": {},
   "outputs": [],
   "source": [
    "answer = input (\" 9) What does the 'E' in E-Class stand for? \")\n",
    "if answer.lower() == 'executive':\n",
    "    print ('Correct!')\n",
    "    score += 1\n",
    "else:\n",
    "    print ('Incorrect!')"
   ]
  },
  {
   "cell_type": "code",
   "execution_count": null,
   "id": "749bc820-f8bd-4029-bfeb-a0f14131d65a",
   "metadata": {},
   "outputs": [],
   "source": [
    "answer = input (\"10) What does the 'AMG' part of Mercedes-AMG stand for? \")\n",
    "if answer.lower() == 'aufrecht melcher großaspach':\n",
    "    print ('Correct!')\n",
    "    score += 1\n",
    "else: \n",
    "    print ('Incorrect!')"
   ]
  },
  {
   "cell_type": "code",
   "execution_count": null,
   "id": "d371ed39",
   "metadata": {},
   "outputs": [],
   "source": [
    "print (\"You got \" + str(score) + \" questions correct!\")"
   ]
  },
  {
   "cell_type": "code",
   "execution_count": null,
   "id": "875b26b8",
   "metadata": {},
   "outputs": [],
   "source": [
    "print (\"You got \" + str((score / 10 ) * 100) + \" %.\")"
   ]
  },
  {
   "cell_type": "code",
   "execution_count": null,
   "id": "6e8c986c-1b23-4d14-a48c-249939d991f0",
   "metadata": {},
   "outputs": [],
   "source": []
  }
 ],
 "metadata": {
  "kernelspec": {
   "display_name": "Python 3 (ipykernel)",
   "language": "python",
   "name": "python3"
  },
  "language_info": {
   "codemirror_mode": {
    "name": "ipython",
    "version": 3
   },
   "file_extension": ".py",
   "mimetype": "text/x-python",
   "name": "python",
   "nbconvert_exporter": "python",
   "pygments_lexer": "ipython3",
   "version": "3.12.4"
  }
 },
 "nbformat": 4,
 "nbformat_minor": 5
}
