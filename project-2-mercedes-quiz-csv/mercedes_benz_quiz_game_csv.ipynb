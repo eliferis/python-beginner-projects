{
 "cells": [
  {
   "cell_type": "code",
   "execution_count": null,
   "id": "d6447b48-3849-481c-8858-7d68426a4785",
   "metadata": {},
   "outputs": [],
   "source": [
    "import csv\n",
    "\n",
    "def load_questions(filename): \n",
    "    questions = [] \n",
    "    with open(filename, mode='r', encoding='utf-8') as file: \n",
    "        csv_reader = csv.reader(file, delimiter=';')\n",
    "        next(csv_reader) \n",
    "        for row in csv_reader: \n",
    "            if len(row) < 3: \n",
    "                continue\n",
    "            questions.append((row[1].strip(), row[2].strip())) \n",
    "    return questions \n",
    "    \n",
    "def play_quiz(questions):\n",
    "    score = 0\n",
    "    total = len(questions) \n",
    "    print(\"Hello there! Welcome to the Mercedes Benz Quiz Game!\")\n",
    "\n",
    "    if input(\"Do you want to play? \").lower().strip() != \"yes\":\n",
    "        print(\"Maybe next time!\")\n",
    "        return\n",
    "\n",
    "    \n",
    "    for i, (question, answer) in enumerate(questions, start=1): \n",
    "        user_answer = input(f\"\\n{i}) {question} \").strip().lower()\n",
    "        if user_answer == answer.lower():\n",
    "            print(\"Correct!\")\n",
    "            score += 1\n",
    "        else:\n",
    "            print(\"Incorrect! The correct answer was:\", answer)\n",
    "   \n",
    "    print(f\"\\nYou got {score} out of {total} questions correct.\")\n",
    "    print(f\"Your score is {score/total*100:.2f}%.\")\n",
    "\n",
    "def main(): \n",
    "    questions = load_questions (\"C:\\\\Users\\\\LENOVO\\\\Desktop\\\\git\\\\python-beginner-projects\\\\project-2-mercedes-quiz-csv\\\\mercedes_benz_quiz_game.csv\") \n",
    "    play_quiz(questions)\n",
    "\n",
    "if __name__ == \"__main__\": \n",
    "    main()"
   ]
  }
 ],
 "metadata": {
  "kernelspec": {
   "display_name": "Python 3 (ipykernel)",
   "language": "python",
   "name": "python3"
  },
  "language_info": {
   "codemirror_mode": {
    "name": "ipython",
    "version": 3
   },
   "file_extension": ".py",
   "mimetype": "text/x-python",
   "name": "python",
   "nbconvert_exporter": "python",
   "pygments_lexer": "ipython3",
   "version": "3.12.4"
  }
 },
 "nbformat": 4,
 "nbformat_minor": 5
}
