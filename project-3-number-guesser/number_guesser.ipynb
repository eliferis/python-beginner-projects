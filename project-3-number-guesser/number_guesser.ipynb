{
 "cells": [
  {
   "cell_type": "code",
   "execution_count": 1,
   "id": "48b1ba5d-61f8-47fc-949d-13a72e9ed441",
   "metadata": {},
   "outputs": [
    {
     "name": "stdin",
     "output_type": "stream",
     "text": [
      "Type a number:  12\n"
     ]
    }
   ],
   "source": [
    "import random\n",
    "\n",
    "top_of_range = input (\"Type a number: \")\n",
    "\n",
    "if top_of_range.isdigit(): #we need to check that is a number or not \n",
    "    top_of_range = int(top_of_range) #converting the number to integer\n",
    "    if top_of_range <= 0:\n",
    "        print('Please type a number larger than 0 next time.')\n",
    "        quit()\n",
    "else: \n",
    "        print('Please type a number next time.')\n",
    "        quit()\n",
    "\n",
    "random_number = random.randint (0, top_of_range)\n",
    "guesses = 0"
   ]
  },
  {
   "cell_type": "code",
   "execution_count": 2,
   "id": "82cf8ba1-8ed1-4a8d-a35c-0c9206eacaae",
   "metadata": {},
   "outputs": [
    {
     "name": "stdin",
     "output_type": "stream",
     "text": [
      "Make a guess:  4\n"
     ]
    },
    {
     "name": "stdout",
     "output_type": "stream",
     "text": [
      "You were below the number\n"
     ]
    },
    {
     "name": "stdin",
     "output_type": "stream",
     "text": [
      "Make a guess:  5\n"
     ]
    },
    {
     "name": "stdout",
     "output_type": "stream",
     "text": [
      "You were below the number\n"
     ]
    },
    {
     "name": "stdin",
     "output_type": "stream",
     "text": [
      "Make a guess:  6\n"
     ]
    },
    {
     "name": "stdout",
     "output_type": "stream",
     "text": [
      "You got it!\n",
      "You got it in 3 guesses\n"
     ]
    }
   ],
   "source": [
    "while True: #we want to keep asking the user to type in a guess for the number until they get it correct\n",
    "    guesses += 1\n",
    "    user_guess = input(\"Make a guess: \")\n",
    "\n",
    "    if user_guess.isdigit(): #we need to check that is a number or not \n",
    "        user_guess = int(user_guess) #converting the number to integer\n",
    "        \n",
    "    else: \n",
    "        print('Please type a number next time.')\n",
    "        continue\n",
    "\n",
    "    if user_guess == random_number:\n",
    "        print('You got it!')\n",
    "        break\n",
    "\n",
    "    elif user_guess > random_number:\n",
    "            print(\"You were above the number!\")\n",
    "    else: \n",
    "            print(\"You were below the number\")\n",
    "\n",
    "print (\"You got it in\", guesses, \"guesses\") \n",
    "        "
   ]
  },
  {
   "cell_type": "code",
   "execution_count": null,
   "id": "28f245a5-14a5-4811-831a-e36d43d60ee7",
   "metadata": {},
   "outputs": [],
   "source": []
  }
 ],
 "metadata": {
  "kernelspec": {
   "display_name": "Python 3 (ipykernel)",
   "language": "python",
   "name": "python3"
  },
  "language_info": {
   "codemirror_mode": {
    "name": "ipython",
    "version": 3
   },
   "file_extension": ".py",
   "mimetype": "text/x-python",
   "name": "python",
   "nbconvert_exporter": "python",
   "pygments_lexer": "ipython3",
   "version": "3.12.4"
  }
 },
 "nbformat": 4,
 "nbformat_minor": 5
}
